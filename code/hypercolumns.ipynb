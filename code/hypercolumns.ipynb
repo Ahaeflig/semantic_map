{
 "cells": [
  {
   "cell_type": "code",
   "execution_count": 2,
   "metadata": {},
   "outputs": [],
   "source": [
    "%load_ext autoreload\n",
    "%autoreload 2\n",
    "import tensorflow as tf\n",
    "import numpy as np\n",
    "import skimage\n",
    "\n",
    "#Custom\n",
    "import vgg19\n",
    "from helpers import load_image, print_prob, load_image2\n",
    "\n",
    "DATA_PATH = '../data/'\n",
    "VGG_PATH = '../data/vgg/'"
   ]
  },
  {
   "cell_type": "code",
   "execution_count": 3,
   "metadata": {
    "collapsed": true
   },
   "outputs": [],
   "source": [
    "image2_path='../data/face/1.jpg'\n",
    "image1_path='../data/face/2.jpg'\n",
    "up_width = 300\n",
    "K = 20\n",
    "\n",
    "img_content = load_image2(DATA_PATH + image1_path, width=up_width)\n",
    "img_context = load_image2(DATA_PATH + image2_path, width=up_width)"
   ]
  },
  {
   "cell_type": "code",
   "execution_count": 16,
   "metadata": {},
   "outputs": [],
   "source": [
    "batch1 = img_content.reshape(1, img_content.shape[0], img_content.shape[1], 3)\n",
    "batch2 = img_context.reshape(1, img_context.shape[0], img_context.shape[1], 3)\n",
    "\n",
    "tf.reset_default_graph()\n",
    "with tf.device('/cpu:0'):\n",
    "    with tf.Session() as sess:\n",
    "\n",
    "        vgg = vgg19.Vgg19(VGG_PATH + 'vgg19.npy')\n",
    "        images = tf.placeholder(\"float\", [1, None, None, 3])\n",
    "\n",
    "        vgg.build(images)\n",
    "\n",
    "        writer = tf.summary.FileWriter(\"output\", sess.graph)\n",
    "\n",
    "        layer_dict = {\n",
    "            'conv2_1' : vgg.conv2_1,\n",
    "            'conv2_2' : vgg.conv2_2,\n",
    "            'conv3_1' : vgg.conv3_1,\n",
    "            'conv3_2' : vgg.conv3_2,   \n",
    "            'conv3_3' : vgg.conv3_3,\n",
    "            'conv3_4' : vgg.conv3_4,  \n",
    "            'conv4_1' : vgg.conv4_1,\n",
    "            'conv4_2' : vgg.conv4_2,\n",
    "            'conv4_3' : vgg.conv4_3,\n",
    "            'conv4_4' : vgg.conv4_4, \n",
    "            'conv5_1' : vgg.conv5_1,\n",
    "            'conv5_2' : vgg.conv5_2,\n",
    "            'conv5_3' : vgg.conv5_3,\n",
    "            'conv5_4' : vgg.conv5_4, \n",
    "        }\n",
    "        \n",
    "        feed_dict = {images: batch1}\n",
    "        feed_dict2 = {images: batch2}\n",
    " \n",
    "        layers = [layer_dict.get(layer_name) for layer_name in layer_dict]\n",
    "\n",
    "        convs = [sess.run(layer, feed_dict=feed_dict)[0] for layer in layers]  \n",
    "    \n",
    "        t_width = convs[9].shape[0]\n",
    "        t_height = convs[9].shape[1]\n",
    "        \n",
    "        \n",
    "        \n",
    "        \n",
    "        target_shape_width_im2 = conv_im12[9].shape[0]\n",
    "        target_shape_height_im2 = conv_im12[9].shape[1]\n",
    "        \n",
    "        \n",
    "        '''\n",
    "        if (layer == None):\n",
    "            raise ValueError(\"layer specified not found in dictionnary\")\n",
    "\n",
    "\n",
    "        conv = [sess.run(layer, feed_dict=feed_dict)[0], sess.run(layer, feed_dict=feed_dict2)[0]]   \n",
    "        '''\n",
    "\n",
    "        sess.close();\n",
    "\n",
    "        #Ws, Hs = get_K_repr(K, conv)"
   ]
  },
  {
   "cell_type": "code",
   "execution_count": 40,
   "metadata": {},
   "outputs": [
    {
     "ename": "TypeError",
     "evalue": "tuple indices must be integers or slices, not tuple",
     "output_type": "error",
     "traceback": [
      "\u001b[1;31m---------------------------------------------------------------------------\u001b[0m",
      "\u001b[1;31mTypeError\u001b[0m                                 Traceback (most recent call last)",
      "\u001b[1;32m<ipython-input-40-256cfae79e3c>\u001b[0m in \u001b[0;36m<module>\u001b[1;34m()\u001b[0m\n\u001b[1;32m----> 1\u001b[1;33m \u001b[0mconv_im1\u001b[0m\u001b[1;33m[\u001b[0m\u001b[1;36m9\u001b[0m\u001b[1;33m]\u001b[0m\u001b[1;33m.\u001b[0m\u001b[0mshape\u001b[0m\u001b[1;33m[\u001b[0m\u001b[1;36m1\u001b[0m\u001b[1;33m,\u001b[0m\u001b[1;36m1\u001b[0m\u001b[1;33m,\u001b[0m\u001b[1;36m1\u001b[0m\u001b[1;33m]\u001b[0m\u001b[1;33m\u001b[0m\u001b[0m\n\u001b[0m",
      "\u001b[1;31mTypeError\u001b[0m: tuple indices must be integers or slices, not tuple"
     ]
    }
   ],
   "source": [
    " layer_dict = {\n",
    "            'conv2_1' : self.conv2_1,\n",
    "            'conv2_2' : self.conv2_2,\n",
    "            'conv3_1' : self.conv3_1,\n",
    "            'conv3_2' : self.conv3_2,   \n",
    "            'conv3_3' : self.conv3_3,\n",
    "            'conv3_4' : self.conv3_4,  \n",
    "            'conv4_1' : self.conv4_1,\n",
    "            'conv4_2' : self.conv4_2,\n",
    "            'conv4_3' : self.conv4_3,\n",
    "            'conv4_4' : self.conv4_4, \n",
    "            'conv5_1' : self.conv5_1,\n",
    "            'conv5_2' : self.conv5_2,\n",
    "            'conv5_3' : self.conv5_3,\n",
    "            'conv5_4' : self.conv5_4, \n",
    "        }\n",
    "        "
   ]
  }
 ],
 "metadata": {
  "kernelspec": {
   "display_name": "Python 3",
   "language": "python",
   "name": "python3"
  }
 },
 "nbformat": 4,
 "nbformat_minor": 2
}
